{
 "cells": [
  {
   "cell_type": "code",
   "execution_count": 10,
   "id": "0deb441d",
   "metadata": {},
   "outputs": [],
   "source": [
    "%run ./cs_go_import_and_process_data.ipynb"
   ]
  },
  {
   "cell_type": "code",
   "execution_count": 24,
   "id": "6fb9a163",
   "metadata": {},
   "outputs": [],
   "source": [
    "# sniper analysis"
   ]
  },
  {
   "cell_type": "code",
   "execution_count": 26,
   "id": "4152f745",
   "metadata": {},
   "outputs": [
    {
     "name": "stdout",
     "output_type": "stream",
     "text": [
      "+------------------+-------------------------+\n",
      "|t1_snipers_on_team|count(t1_snipers_on_team)|\n",
      "+------------------+-------------------------+\n",
      "|                 1|                     5516|\n",
      "|                 3|                       61|\n",
      "|                 2|                     1825|\n",
      "|                 0|                      172|\n",
      "+------------------+-------------------------+\n",
      "\n"
     ]
    }
   ],
   "source": [
    "(df_teams\n",
    "  .groupBy('snipers_on_team')\n",
    "  .agg(F.count('snipers_on_team'))\n",
    ").show()"
   ]
  },
  {
   "cell_type": "code",
   "execution_count": 142,
   "id": "ea28702d",
   "metadata": {},
   "outputs": [
    {
     "name": "stdout",
     "output_type": "stream",
     "text": [
      "+--------------+---+---+---+---+-----+\n",
      "|     team_name|m_0|m_1|m_2|m_3|m_ttl|\n",
      "+--------------+---+---+---+---+-----+\n",
      "|      ASTRALIS| 13|440| 73|  0|  526|\n",
      "|          FAZE|  0|439| 66|  0|  505|\n",
      "|   MOUSESPORTS|  0|196|264| 12|  472|\n",
      "|           NIP| 71|218|174|  0|  463|\n",
      "|            G2|  0|276|183|  0|  459|\n",
      "|        FNATIC|  0|308| 97| 12|  417|\n",
      "| NATUS VINCERE|  0|271|121|  4|  396|\n",
      "|        LIQUID|  6|258|108|  6|  378|\n",
      "|    VIRTUS.PRO|  0| 69|188| 23|  280|\n",
      "|        CLOUD9|  0|211| 55|  0|  266|\n",
      "|        HEROIC| 18|207| 31|  0|  256|\n",
      "|         NORTH|  8|230| 10|  0|  248|\n",
      "|            SK|  0|206| 34|  0|  240|\n",
      "|          ENVY|  0|198| 12|  0|  210|\n",
      "|   HELLRAISERS|  0|160| 17|  0|  177|\n",
      "|         OPTIC|  0| 91| 69|  0|  160|\n",
      "|        GAMBIT|  0|156|  1|  0|  157|\n",
      "|           BIG|  0|102| 42|  0|  144|\n",
      "|      DIGNITAS| 22|114|  1|  0|  137|\n",
      "|     RENEGADES|  0|131|  1|  0|  132|\n",
      "|      VITALITY|  0|117| 13|  0|  130|\n",
      "|          MIBR|  0| 70| 57|  0|  127|\n",
      "|     IMMORTALS|  0| 73| 38|  0|  111|\n",
      "|           NRG|  0| 96|  0|  0|   96|\n",
      "|          ENCE|  0| 79|  3|  0|   82|\n",
      "|         FURIA|  0| 30| 52|  0|   82|\n",
      "|       GODSENT|  0| 64| 16|  0|   80|\n",
      "|      FLIPSID3|  0| 73|  1|  0|   74|\n",
      "|           CLG|  0| 28| 44|  0|   72|\n",
      "| EVIL GENIUSES|  0| 71|  0|  0|   71|\n",
      "|SPACE SOLDIERS| 34| 25|  4|  0|   63|\n",
      "|    COMPLEXITY|  0| 50|  6|  0|   56|\n",
      "|       AVANGAR|  0| 30| 17|  0|   47|\n",
      "|            OG|  0| 46|  0|  0|   46|\n",
      "|    LUMINOSITY|  0| 33| 11|  0|   44|\n",
      "|   100 THIEVES|  0| 43|  0|  0|   43|\n",
      "|         TYLOO|  0| 28|  7|  0|   35|\n",
      "|         FORZE|  0| 26|  1|  0|   27|\n",
      "|         CR4ZY|  0| 23|  3|  0|   26|\n",
      "|        SPIRIT|  0| 26|  0|  0|   26|\n",
      "|           AGO|  0| 24|  0|  0|   24|\n",
      "|       KINGUIN|  0| 21|  0|  0|   21|\n",
      "|         GEN.G|  0| 19|  0|  0|   19|\n",
      "|     MAD LIONS|  0| 17|  0|  0|   17|\n",
      "|   TEMPO STORM|  0| 14|  0|  0|   14|\n",
      "|      VALIANCE|  0| 13|  0|  0|   13|\n",
      "|    E-FRAG.NET|  0| 12|  0|  0|   12|\n",
      "| VEGA SQUADRON|  0| 10|  0|  0|   10|\n",
      "|          LDLC|  0| 10|  0|  0|   10|\n",
      "|        SPROUT|  0|  9|  0|  0|    9|\n",
      "+--------------+---+---+---+---+-----+\n",
      "only showing top 50 rows\n",
      "\n"
     ]
    }
   ],
   "source": [
    "df_matches_by_number_of_snipers = (df_matches_exploded\n",
    "    .groupBy('team_name')\n",
    "    .pivot('t1_snipers_on_team')\n",
    "    .agg(F.count('team_name'))\n",
    "    .na.fill(0)\n",
    "    .withColumn('m_ttl',\n",
    "        F.col('0') + F.col('1') + F.col('2') + F.col('3') \n",
    "    )\n",
    "    .select(\n",
    "        'team_name',\n",
    "        F.col('0').alias('m_0'),\n",
    "        F.col('1').alias('m_1'),\n",
    "        F.col('2').alias('m_2'),\n",
    "        F.col('3').alias('m_3'),\n",
    "        'm_ttl',\n",
    "    )\n",
    "    .orderBy(F.col('m_ttl').desc())\n",
    ")\n",
    "\n",
    "df_matches_by_number_of_snipers.show(50)"
   ]
  },
  {
   "cell_type": "code",
   "execution_count": 146,
   "id": "3634b7b9",
   "metadata": {},
   "outputs": [
    {
     "name": "stdout",
     "output_type": "stream",
     "text": [
      "+--------------+---+---+---+---+-----+\n",
      "|     team_name|w_0|w_1|w_2|w_3|w_ttl|\n",
      "+--------------+---+---+---+---+-----+\n",
      "|      ASTRALIS|  6|307| 39|  0|  352|\n",
      "|          FAZE|  0|237| 29|  0|  266|\n",
      "|   MOUSESPORTS|  0|102|138|  9|  249|\n",
      "|           NIP| 30|118| 85|  0|  233|\n",
      "|        FNATIC|  0|173| 47|  4|  224|\n",
      "| NATUS VINCERE|  0|144| 75|  4|  223|\n",
      "|            G2|  0|129| 91|  0|  220|\n",
      "|        LIQUID|  4|137| 54|  6|  201|\n",
      "|        CLOUD9|  0|111| 29|  0|  140|\n",
      "|            SK|  0|120| 20|  0|  140|\n",
      "|         NORTH|  7|120|  5|  0|  132|\n",
      "|    VIRTUS.PRO|  0| 26| 76| 11|  113|\n",
      "|        HEROIC|  6| 81| 18|  0|  105|\n",
      "|          ENVY|  0| 81|  8|  0|   89|\n",
      "|      VITALITY|  0| 68| 11|  0|   79|\n",
      "|   HELLRAISERS|  0| 68|  6|  0|   74|\n",
      "|        GAMBIT|  0| 69|  0|  0|   69|\n",
      "|           BIG|  0| 44| 24|  0|   68|\n",
      "|      DIGNITAS|  6| 57|  0|  0|   63|\n",
      "|         OPTIC|  0| 31| 31|  0|   62|\n",
      "|     IMMORTALS|  0| 36| 20|  0|   56|\n",
      "|          MIBR|  0| 31| 22|  0|   53|\n",
      "|         FURIA|  0| 17| 32|  0|   49|\n",
      "|     RENEGADES|  0| 48|  0|  0|   48|\n",
      "|           NRG|  0| 48|  0|  0|   48|\n",
      "|          ENCE|  0| 40|  1|  0|   41|\n",
      "| EVIL GENIUSES|  0| 39|  0|  0|   39|\n",
      "|       GODSENT|  0| 29|  7|  0|   36|\n",
      "|    LUMINOSITY|  0| 25| 10|  0|   35|\n",
      "|SPACE SOLDIERS| 17| 14|  2|  0|   33|\n",
      "|    COMPLEXITY|  0| 23|  1|  0|   24|\n",
      "|            OG|  0| 20|  0|  0|   20|\n",
      "|           CLG|  0| 10| 10|  0|   20|\n",
      "|       AVANGAR|  0|  9| 10|  0|   19|\n",
      "|   100 THIEVES|  0| 19|  0|  0|   19|\n",
      "|      FLIPSID3|  0| 13|  0|  0|   13|\n",
      "|         FORZE|  0| 13|  0|  0|   13|\n",
      "|         CR4ZY|  0| 11|  1|  0|   12|\n",
      "|        SPIRIT|  0| 10|  0|  0|   10|\n",
      "|     MAD LIONS|  0|  9|  0|  0|    9|\n",
      "|         TYLOO|  0|  7|  2|  0|    9|\n",
      "|      VALIANCE|  0|  8|  0|  0|    8|\n",
      "|   TEMPO STORM|  0|  7|  0|  0|    7|\n",
      "|           AGO|  0|  6|  0|  0|    6|\n",
      "|         GEN.G|  0|  4|  0|  0|    4|\n",
      "|       WINDIGO|  0|  3|  0|  0|    3|\n",
      "|       TRICKED|  0|  3|  0|  0|    3|\n",
      "|    E-FRAG.NET|  0|  3|  0|  0|    3|\n",
      "|         GHOST|  0|  0|  0|  2|    2|\n",
      "|        SPROUT|  0|  2|  0|  0|    2|\n",
      "+--------------+---+---+---+---+-----+\n",
      "only showing top 50 rows\n",
      "\n"
     ]
    }
   ],
   "source": [
    "df_wins_by_number_of_snipers = (df_matches_exploded\n",
    "    .groupBy('team_name')\n",
    "    .pivot('t1_snipers_on_team')\n",
    "    .agg(F.sum(F.when(F.col('won') == True, F.lit(1)).otherwise(F.lit(0))).alias('wins'))\n",
    "    .na.fill(0)\n",
    "    .withColumn('w_ttl',\n",
    "        F.col('0') + F.col('1') + F.col('2') + F.col('3') \n",
    "    )\n",
    "    .select(\n",
    "        'team_name',\n",
    "        F.col('0').alias('w_0'),\n",
    "        F.col('1').alias('w_1'),\n",
    "        F.col('2').alias('w_2'),\n",
    "        F.col('3').alias('w_3'),\n",
    "        'w_ttl',\n",
    "    )\n",
    "    .orderBy(F.col('w_ttl').desc())\n",
    ")\n",
    "\n",
    "# df_wins_by_number_of_snipers.show(50)"
   ]
  },
  {
   "cell_type": "code",
   "execution_count": 159,
   "id": "2522480a",
   "metadata": {},
   "outputs": [
    {
     "name": "stdout",
     "output_type": "stream",
     "text": [
      "+--------------------+---+---+---+---+-----+---+---+---+---+-----+----+----+----+----+\n",
      "|           team_name|m_0|m_1|m_2|m_3|m_ttl|w_0|w_1|w_2|w_3|w_ttl| p_0| p_1| p_2| p_3|\n",
      "+--------------------+---+---+---+---+-----+---+---+---+---+-----+----+----+----+----+\n",
      "|            DIGNITAS| 22|114|  1|  0|  137|  6| 57|  0|  0|   63|0.27| 0.5| 0.0| 0.0|\n",
      "|               CR4ZY|  0| 23|  3|  0|   26|  0| 11|  1|  0|   12| 0.0|0.48|0.33| 0.0|\n",
      "|                 CLG|  0| 28| 44|  0|   72|  0| 10| 10|  0|   20| 0.0|0.36|0.23| 0.0|\n",
      "|             C0NTACT|  0|  1|  0|  0|    1|  0|  0|  0|  0|    0| 0.0| 0.0| 0.0| 0.0|\n",
      "|                 TSM|  0|  1|  0|  0|    1|  0|  0|  0|  0|    0| 0.0| 0.0| 0.0| 0.0|\n",
      "|              SPIRIT|  0| 26|  0|  0|   26|  0| 10|  0|  0|   10| 0.0|0.38| 0.0| 0.0|\n",
      "|       EVIL GENIUSES|  0| 71|  0|  0|   71|  0| 39|  0|  0|   39| 0.0|0.55| 0.0| 0.0|\n",
      "|       NATUS VINCERE|  0|271|121|  4|  396|  0|144| 75|  4|  223| 0.0|0.53|0.62| 1.0|\n",
      "|              FNATIC|  0|308| 97| 12|  417|  0|173| 47|  4|  224| 0.0|0.56|0.48|0.33|\n",
      "|              HEROIC| 18|207| 31|  0|  256|  6| 81| 18|  0|  105|0.33|0.39|0.58| 0.0|\n",
      "|          LUMINOSITY|  0| 33| 11|  0|   44|  0| 25| 10|  0|   35| 0.0|0.76|0.91| 0.0|\n",
      "|               GEN.G|  0| 19|  0|  0|   19|  0|  4|  0|  0|    4| 0.0|0.21| 0.0| 0.0|\n",
      "|          COMPLEXITY|  0| 50|  6|  0|   56|  0| 23|  1|  0|   24| 0.0|0.46|0.17| 0.0|\n",
      "|              GAMBIT|  0|156|  1|  0|  157|  0| 69|  0|  0|   69| 0.0|0.44| 0.0| 0.0|\n",
      "|           GRAYHOUND|  0|  3|  0|  0|    3|  0|  0|  0|  0|    0| 0.0| 0.0| 0.0| 0.0|\n",
      "|QUANTUM BELLATOR ...|  0|  1|  0|  0|    1|  0|  0|  0|  0|    0| 0.0| 0.0| 0.0| 0.0|\n",
      "|            VITALITY|  0|117| 13|  0|  130|  0| 68| 11|  0|   79| 0.0|0.58|0.85| 0.0|\n",
      "|         TEMPO STORM|  0| 14|  0|  0|   14|  0|  7|  0|  0|    7| 0.0| 0.5| 0.0| 0.0|\n",
      "|                 NRG|  0| 96|  0|  0|   96|  0| 48|  0|  0|   48| 0.0| 0.5| 0.0| 0.0|\n",
      "|             KINGUIN|  0| 21|  0|  0|   21|  0|  2|  0|  0|    2| 0.0| 0.1| 0.0| 0.0|\n",
      "|              LIQUID|  6|258|108|  6|  378|  4|137| 54|  6|  201|0.67|0.53| 0.5| 1.0|\n",
      "|               PENTA|  0|  5|  0|  0|    5|  0|  2|  0|  0|    2| 0.0| 0.4| 0.0| 0.0|\n",
      "|                  G2|  0|276|183|  0|  459|  0|129| 91|  0|  220| 0.0|0.47| 0.5| 0.0|\n",
      "|         MOUSESPORTS|  0|196|264| 12|  472|  0|102|138|  9|  249| 0.0|0.52|0.52|0.75|\n",
      "|                FAZE|  0|439| 66|  0|  505|  0|237| 29|  0|  266| 0.0|0.54|0.44| 0.0|\n",
      "|          VIRTUS.PRO|  0| 69|188| 23|  280|  0| 26| 76| 11|  113| 0.0|0.38| 0.4|0.48|\n",
      "|               NORTH|  8|230| 10|  0|  248|  7|120|  5|  0|  132|0.88|0.52| 0.5| 0.0|\n",
      "|            SELFLESS|  0|  3|  0|  0|    3|  0|  0|  0|  0|    0| 0.0| 0.0| 0.0| 0.0|\n",
      "|                 BIG|  0|102| 42|  0|  144|  0| 44| 24|  0|   68| 0.0|0.43|0.57| 0.0|\n",
      "|         HELLRAISERS|  0|160| 17|  0|  177|  0| 68|  6|  0|   74| 0.0|0.43|0.35| 0.0|\n",
      "|           RENEGADES|  0|131|  1|  0|  132|  0| 48|  0|  0|   48| 0.0|0.37| 0.0| 0.0|\n",
      "|                  OG|  0| 46|  0|  0|   46|  0| 20|  0|  0|   20| 0.0|0.43| 0.0| 0.0|\n",
      "|         RED RESERVE|  0|  2|  0|  0|    2|  0|  0|  0|  0|    0| 0.0| 0.0| 0.0| 0.0|\n",
      "|                 AGG|  0|  3|  0|  0|    3|  0|  0|  0|  0|    0| 0.0| 0.0| 0.0| 0.0|\n",
      "|                LDLC|  0| 10|  0|  0|   10|  0|  2|  0|  0|    2| 0.0| 0.2| 0.0| 0.0|\n",
      "|             UKRAINE|  0|  2|  0|  0|    2|  0|  2|  0|  0|    2| 0.0| 1.0| 0.0| 0.0|\n",
      "|           IMMORTALS|  0| 73| 38|  0|  111|  0| 36| 20|  0|   56| 0.0|0.49|0.53| 0.0|\n",
      "|                   X|  0|  0|  1|  0|    1|  0|  0|  1|  0|    1| 0.0| 0.0| 1.0| 0.0|\n",
      "|               FORZE|  0| 26|  1|  0|   27|  0| 13|  0|  0|   13| 0.0| 0.5| 0.0| 0.0|\n",
      "|         VG.CYBERZEN|  0|  2|  0|  0|    2|  0|  1|  0|  0|    1| 0.0| 0.5| 0.0| 0.0|\n",
      "|             AVANGAR|  0| 30| 17|  0|   47|  0|  9| 10|  0|   19| 0.0| 0.3|0.59| 0.0|\n",
      "|             GODSENT|  0| 64| 16|  0|   80|  0| 29|  7|  0|   36| 0.0|0.45|0.44| 0.0|\n",
      "|             MISFITS|  0|  1|  2|  0|    3|  0|  0|  1|  0|    1| 0.0| 0.0| 0.5| 0.0|\n",
      "|             WINDIGO|  0|  9|  0|  0|    9|  0|  3|  0|  0|    3| 0.0|0.33| 0.0| 0.0|\n",
      "|         DREAMEATERS|  0|  2|  0|  0|    2|  0|  0|  0|  0|    0| 0.0| 0.0| 0.0| 0.0|\n",
      "|                  SK|  0|206| 34|  0|  240|  0|120| 20|  0|  140| 0.0|0.58|0.59| 0.0|\n",
      "|            FLIPSID3|  0| 73|  1|  0|   74|  0| 13|  0|  0|   13| 0.0|0.18| 0.0| 0.0|\n",
      "|               CHAOS|  0|  5|  0|  0|    5|  0|  2|  0|  0|    2| 0.0| 0.4| 0.0| 0.0|\n",
      "|                 NIP| 71|218|174|  0|  463| 30|118| 85|  0|  233|0.42|0.54|0.49| 0.0|\n",
      "|                MIBR|  0| 70| 57|  0|  127|  0| 31| 22|  0|   53| 0.0|0.44|0.39| 0.0|\n",
      "|               GHOST|  0|  0|  1|  4|    5|  0|  0|  0|  2|    2| 0.0| 0.0| 0.0| 0.5|\n",
      "|              SPROUT|  0|  9|  0|  0|    9|  0|  2|  0|  0|    2| 0.0|0.22| 0.0| 0.0|\n",
      "|         100 THIEVES|  0| 43|  0|  0|   43|  0| 19|  0|  0|   19| 0.0|0.44| 0.0| 0.0|\n",
      "|            VALIANCE|  0| 13|  0|  0|   13|  0|  8|  0|  0|    8| 0.0|0.62| 0.0| 0.0|\n",
      "|            ECHO FOX|  0|  8|  0|  0|    8|  0|  2|  0|  0|    2| 0.0|0.25| 0.0| 0.0|\n",
      "|       VEGA SQUADRON|  0| 10|  0|  0|   10|  0|  2|  0|  0|    2| 0.0| 0.2| 0.0| 0.0|\n",
      "|               TYLOO|  0| 28|  7|  0|   35|  0|  7|  2|  0|    9| 0.0|0.25|0.29| 0.0|\n",
      "|               FURIA|  0| 30| 52|  0|   82|  0| 17| 32|  0|   49| 0.0|0.57|0.62| 0.0|\n",
      "|                ENVY|  0|198| 12|  0|  210|  0| 81|  8|  0|   89| 0.0|0.41|0.67| 0.0|\n",
      "|                 AGO|  0| 24|  0|  0|   24|  0|  6|  0|  0|    6| 0.0|0.25| 0.0| 0.0|\n",
      "|               OPTIC|  0| 91| 69|  0|  160|  0| 31| 31|  0|   62| 0.0|0.34|0.45| 0.0|\n",
      "|           MAD LIONS|  0| 17|  0|  0|   17|  0|  9|  0|  0|    9| 0.0|0.53| 0.0| 0.0|\n",
      "|      SPACE SOLDIERS| 34| 25|  4|  0|   63| 17| 14|  2|  0|   33| 0.5|0.56| 0.5| 0.0|\n",
      "|                ENCE|  0| 79|  3|  0|   82|  0| 40|  1|  0|   41| 0.0|0.51|0.33| 0.0|\n",
      "|             TRICKED|  0|  7|  0|  0|    7|  0|  3|  0|  0|    3| 0.0|0.43| 0.0| 0.0|\n",
      "|                   ?|  0|  0|  1|  0|    1|  0|  0|  0|  0|    0| 0.0| 0.0| 0.0| 0.0|\n",
      "|              CLOUD9|  0|211| 55|  0|  266|  0|111| 29|  0|  140| 0.0|0.53|0.53| 0.0|\n",
      "|          E-FRAG.NET|  0| 12|  0|  0|   12|  0|  3|  0|  0|    3| 0.0|0.25| 0.0| 0.0|\n",
      "|            ASTRALIS| 13|440| 73|  0|  526|  6|307| 39|  0|  352|0.46| 0.7|0.53| 0.0|\n",
      "+--------------------+---+---+---+---+-----+---+---+---+---+-----+----+----+----+----+\n",
      "\n"
     ]
    }
   ],
   "source": [
    "df_matches_and_wins_by_number_of_snipers = (df_matches_by_number_of_snipers\n",
    "    .join(df_wins_by_number_of_snipers, 'team_name', 'left')\n",
    "    .select(\n",
    "        '*',\n",
    "        F.lit(F.round(F.col('w_0') / F.col('m_0'), 2)).alias('p_0'),\n",
    "        F.lit(F.round(F.col('w_1') / F.col('m_1'), 2)).alias('p_1'),\n",
    "        F.lit(F.round(F.col('w_2') / F.col('m_2'), 2)).alias('p_2'),\n",
    "        F.lit(F.round(F.col('w_3') / F.col('m_3'), 2)).alias('p_3'),\n",
    "    )\n",
    "    .na.fill(0)\n",
    ")\n",
    "\n",
    "df_matches_and_wins_by_number_of_snipers.show(80)"
   ]
  },
  {
   "cell_type": "code",
   "execution_count": 27,
   "id": "5cdb24f7",
   "metadata": {},
   "outputs": [
    {
     "name": "stderr",
     "output_type": "stream",
     "text": [
      "[Stage 29:===============================================>      (177 + 8) / 200]\r"
     ]
    },
    {
     "name": "stdout",
     "output_type": "stream",
     "text": [
      "+-----------------+---------------+\n",
      "|number_of_snipers|count(match_id)|\n",
      "+-----------------+---------------+\n",
      "|             null|              5|\n",
      "|                1|            122|\n",
      "|                2|           1028|\n",
      "|                3|            591|\n",
      "|                4|            162|\n",
      "|                5|             12|\n",
      "|                6|              1|\n",
      "+-----------------+---------------+\n",
      "\n"
     ]
    },
    {
     "name": "stderr",
     "output_type": "stream",
     "text": [
      "\r",
      "                                                                                \r"
     ]
    }
   ],
   "source": [
    "sniper_counts_by_match_winning_teams = (df_player_stats_exploded\n",
    "    .filter(F.col('won') == True)\n",
    "    .groupBy('match_id')\n",
    "    .agg(F.sum(F.when(F.col('t1_player1_is_sniper') == True, 1)).alias('number_of_snipers'))\n",
    ")\n",
    "\n",
    "snipers_per_winning_team = (sniper_counts_by_match_winning_teams\n",
    "    .groupBy('number_of_snipers')\n",
    "    .agg(F.count('match_id'))\n",
    "    .orderBy('number_of_snipers')\n",
    ")\n",
    "\n",
    "snipers_per_winning_team.show()"
   ]
  },
  {
   "cell_type": "code",
   "execution_count": 68,
   "id": "6c094588",
   "metadata": {},
   "outputs": [
    {
     "name": "stderr",
     "output_type": "stream",
     "text": [
      "\r",
      "[Stage 108:======================================>              (145 + 8) / 200]\r"
     ]
    },
    {
     "name": "stdout",
     "output_type": "stream",
     "text": [
      "+-----------------+---------------+\n",
      "|number_of_snipers|count(match_id)|\n",
      "+-----------------+---------------+\n",
      "|             null|              3|\n",
      "|                1|            133|\n",
      "|                2|           1026|\n",
      "|                3|            638|\n",
      "|                4|            141|\n",
      "|                5|              3|\n",
      "|                6|              1|\n",
      "+-----------------+---------------+\n",
      "\n"
     ]
    },
    {
     "name": "stderr",
     "output_type": "stream",
     "text": [
      "\r",
      "                                                                                \r"
     ]
    }
   ],
   "source": [
    "sniper_counts_by_match_losing_teams = (df_player_stats_exploded\n",
    "    .filter(F.col('won') == False)\n",
    "    .groupBy('match_id')\n",
    "    .agg(F.sum(F.when(F.col('t1_player1_is_sniper') == True, 1)).alias('number_of_snipers'))\n",
    ")\n",
    "\n",
    "snipers_per_winning_team = (sniper_counts_by_match_losing_teams\n",
    "    .groupBy('number_of_snipers')\n",
    "    .agg(F.count('match_id'))\n",
    "    .orderBy('number_of_snipers')\n",
    ")\n",
    "\n",
    "snipers_per_winning_team.show()"
   ]
  },
  {
   "cell_type": "code",
   "execution_count": null,
   "id": "fdbd26f7",
   "metadata": {},
   "outputs": [],
   "source": [
    "# Underdog analysis"
   ]
  },
  {
   "cell_type": "code",
   "execution_count": 104,
   "id": "79ed4981",
   "metadata": {},
   "outputs": [],
   "source": [
    "df_csgo_with_underdog_check = (df_csgo\n",
    "    # team ranking\n",
    "    .withColumn('favourite_by_ranking',\n",
    "        F.when(F.col('t1_world_rank') > F.col('t2_world_rank'), F.lit('t1'))\n",
    "         .when(F.col('t2_world_rank') > F.col('t1_world_rank'), F.lit('t2'))\n",
    "         .otherwise(F.lit('even'))      \n",
    "    )\n",
    "    .withColumn('ranking_difference',\n",
    "        F.abs(F.col('t1_world_rank') - F.col('t2_world_rank'))\n",
    "    )\n",
    "    .withColumn('winner_by_comparitive_ranking',\n",
    "        F.when(F.col('favourite_by_ranking') == F.col('winner'), F.lit('favourite'))\n",
    "         .otherwise(F.lit('underdog'))\n",
    "    )\n",
    "    \n",
    "    # h2h\n",
    "    .withColumn('favourite_by_h2h',\n",
    "        F.when(F.col('t1_h2h_win_perc') > F.col('t2_h2h_win_perc'), F.lit('t1'))\n",
    "         .when(F.col('t2_h2h_win_perc') > F.col('t1_h2h_win_perc'), F.lit('t2'))\n",
    "         .otherwise(F.lit('even'))      \n",
    "    )\n",
    "    .withColumn('h2h_difference',\n",
    "        F.abs(F.col('t1_h2h_win_perc') - F.col('t2_h2h_win_perc'))\n",
    "    )\n",
    "    .withColumn('winner_by_h2h',\n",
    "        F.when(F.col('favourite_by_h2h') == F.col('winner'), F.lit('favourite'))\n",
    "         .otherwise(F.lit('underdog'))\n",
    "    )\n",
    "     \n",
    "    # avg player rating\n",
    "    .withColumn('favourite_by_avg_player_rating',\n",
    "        F.when(F.col('t1_avg_player_rating') > F.col('t2_avg_player_rating'), F.lit('t1'))\n",
    "         .when(F.col('t2_avg_player_rating') > F.col('t1_avg_player_rating'), F.lit('t2'))\n",
    "         .otherwise(F.lit('even'))      \n",
    "    )\n",
    "    .withColumn('avg_player_rating_difference',\n",
    "        F.abs(F.col('t1_h2h_win_perc') - F.col('t2_h2h_win_perc'))\n",
    "    )\n",
    "    .withColumn('winner_by_avg_player_rating',\n",
    "        F.when(F.col('favourite_by_avg_player_rating') == F.col('winner'), F.lit('favourite'))\n",
    "         .otherwise(F.lit('underdog'))\n",
    "    )\n",
    ")"
   ]
  },
  {
   "cell_type": "code",
   "execution_count": 81,
   "id": "0698e8a3",
   "metadata": {},
   "outputs": [
    {
     "name": "stdout",
     "output_type": "stream",
     "text": [
      "+-----------------------------+------------------------------------+\n",
      "|winner_by_comparitive_ranking|count(winner_by_comparitive_ranking)|\n",
      "+-----------------------------+------------------------------------+\n",
      "|                    favourite|                                1542|\n",
      "|                     underdog|                                2245|\n",
      "+-----------------------------+------------------------------------+\n",
      "\n"
     ]
    }
   ],
   "source": [
    "(df_csgo_with_underdog_check\n",
    "    .groupBy('winner_by_comparitive_ranking')\n",
    "    .agg(F.count('winner_by_comparitive_ranking'))\n",
    "    .show()\n",
    ")"
   ]
  },
  {
   "cell_type": "code",
   "execution_count": 76,
   "id": "3eb4be55",
   "metadata": {},
   "outputs": [
    {
     "name": "stdout",
     "output_type": "stream",
     "text": [
      "+------------------+-------------------------+\n",
      "|ranking_difference|count(ranking_difference)|\n",
      "+------------------+-------------------------+\n",
      "|                 1|                      448|\n",
      "|                 2|                      418|\n",
      "|                 3|                      390|\n",
      "|                 4|                      330|\n",
      "|                 5|                      315|\n",
      "|                 6|                      301|\n",
      "|                 7|                      239|\n",
      "|                 8|                      251|\n",
      "|                 9|                      232|\n",
      "|                10|                      178|\n",
      "|                11|                      147|\n",
      "|                12|                      143|\n",
      "|                13|                      123|\n",
      "|                14|                       93|\n",
      "|                15|                       48|\n",
      "|                16|                       49|\n",
      "|                17|                       42|\n",
      "|                18|                       21|\n",
      "|                19|                       18|\n",
      "|                20|                        1|\n",
      "+------------------+-------------------------+\n",
      "\n"
     ]
    }
   ],
   "source": [
    "(df_csgo_with_underdog_check\n",
    "    .groupBy('ranking_difference')\n",
    "    .agg(F.count('ranking_difference'))\n",
    "    .orderBy('ranking_difference')\n",
    "    .show(40)\n",
    ")"
   ]
  },
  {
   "cell_type": "code",
   "execution_count": 79,
   "id": "f3725bc0",
   "metadata": {},
   "outputs": [
    {
     "name": "stdout",
     "output_type": "stream",
     "text": [
      "+------------------+---------+--------+\n",
      "|ranking_difference|favourite|underdog|\n",
      "+------------------+---------+--------+\n",
      "|                 1|      194|     254|\n",
      "|                 2|      205|     213|\n",
      "|                 3|      161|     229|\n",
      "|                 4|      147|     183|\n",
      "|                 5|      138|     177|\n",
      "|                 6|      111|     190|\n",
      "|                 7|       87|     152|\n",
      "|                 8|       99|     152|\n",
      "|                 9|       94|     138|\n",
      "|                10|       63|     115|\n",
      "|                11|       47|     100|\n",
      "|                12|       51|      92|\n",
      "|                13|       55|      68|\n",
      "|                14|       37|      56|\n",
      "|                15|       17|      31|\n",
      "|                16|       13|      36|\n",
      "|                17|       12|      30|\n",
      "|                18|        6|      15|\n",
      "|                19|        5|      13|\n",
      "|                20|     null|       1|\n",
      "+------------------+---------+--------+\n",
      "\n"
     ]
    }
   ],
   "source": [
    "(df_csgo_with_underdog_check\n",
    "    .groupBy('ranking_difference')\n",
    "    .pivot('winner_by_comparitive_ranking')\n",
    "    .agg(F.count('winner_by_comparitive_ranking'))\n",
    "    .orderBy('ranking_difference')\n",
    "    .show(40)\n",
    ")"
   ]
  },
  {
   "cell_type": "code",
   "execution_count": 82,
   "id": "007543e3",
   "metadata": {},
   "outputs": [
    {
     "name": "stdout",
     "output_type": "stream",
     "text": [
      "+-------------+--------------------+\n",
      "|winner_by_h2h|count(winner_by_h2h)|\n",
      "+-------------+--------------------+\n",
      "|    favourite|                1807|\n",
      "|     underdog|                1980|\n",
      "+-------------+--------------------+\n",
      "\n"
     ]
    }
   ],
   "source": [
    "(df_csgo_with_underdog_check\n",
    "    .groupBy('winner_by_h2h')\n",
    "    .agg(F.count('winner_by_h2h'))\n",
    "    .show()\n",
    ")"
   ]
  },
  {
   "cell_type": "code",
   "execution_count": 105,
   "id": "52fa6a09",
   "metadata": {},
   "outputs": [
    {
     "name": "stdout",
     "output_type": "stream",
     "text": [
      "+---------------------------+----------------------------------+\n",
      "|winner_by_avg_player_rating|count(winner_by_avg_player_rating)|\n",
      "+---------------------------+----------------------------------+\n",
      "|                  favourite|                              2163|\n",
      "|                   underdog|                              1624|\n",
      "+---------------------------+----------------------------------+\n",
      "\n"
     ]
    }
   ],
   "source": [
    "(df_csgo_with_underdog_check\n",
    "    .groupBy('winner_by_avg_player_rating')\n",
    "    .agg(F.count('winner_by_avg_player_rating'))\n",
    "    .show()\n",
    ")"
   ]
  }
 ],
 "metadata": {
  "kernelspec": {
   "display_name": "Python 3 (ipykernel)",
   "language": "python",
   "name": "python3"
  },
  "language_info": {
   "codemirror_mode": {
    "name": "ipython",
    "version": 3
   },
   "file_extension": ".py",
   "mimetype": "text/x-python",
   "name": "python",
   "nbconvert_exporter": "python",
   "pygments_lexer": "ipython3",
   "version": "3.10.4"
  }
 },
 "nbformat": 4,
 "nbformat_minor": 5
}
