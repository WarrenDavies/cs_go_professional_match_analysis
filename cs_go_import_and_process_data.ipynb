{
 "cells": [
  {
   "cell_type": "code",
   "execution_count": 2,
   "id": "0deb441d",
   "metadata": {},
   "outputs": [],
   "source": [
    "from pyspark.sql import functions as F"
   ]
  },
  {
   "cell_type": "markdown",
   "id": "61eb4560",
   "metadata": {},
   "source": [
    "# import data, add some useful columns, and rename the team columns to t1_ t2_ so we can catch them in loops"
   ]
  },
  {
   "cell_type": "code",
   "execution_count": 19,
   "id": "7ab67000",
   "metadata": {},
   "outputs": [],
   "source": [
    "%run ./config.ipynb"
   ]
  },
  {
   "cell_type": "code",
   "execution_count": 20,
   "id": "f9c76dab",
   "metadata": {},
   "outputs": [
    {
     "name": "stdout",
     "output_type": "stream",
     "text": [
      "df_csgo\n"
     ]
    }
   ],
   "source": [
    "df_csgo = (spark\n",
    "    .read\n",
    "    .option(\"inferSchema\",\"true\")\n",
    "    .option(\"header\", True)\n",
    "    .csv(f\"{PATH_TO_CSGO_DATA}/csgo_games.csv\")\n",
    "    .withColumn(\"match_id\", F.monotonically_increasing_id())\n",
    "    .withColumn('winning_team_name',\n",
    "        F.when(F.col('winner') == 't1', F.col('team_1'))\n",
    "         .when(F.col('winner') == 't2', F.col('team_2'))\n",
    "         .otherwise(F.lit(None))\n",
    "    )\n",
    "    .withColumnRenamed('team_1', 't1')\n",
    "    .withColumnRenamed('team_2', 't2')\n",
    "    .withColumn('t1_avg_player_rating',\n",
    "        eval('(' + ' + '.join(['F.col(\"t1_player' + str(i) + '_rating\")' for i in range(1, 6)]) + ') / 5')\n",
    "    )\n",
    "    .withColumn('t2_avg_player_rating',\n",
    "        eval('(' + ' + '.join(['F.col(\"t2_player' + str(i) + '_rating\")' for i in range(1, 6)]) + ') / 5')\n",
    "    )\n",
    "    .withColumn('t1_snipers_on_team',\n",
    "        eval(' + '.join(\n",
    "            ['F.when(F.col(\"t1_player' + str(i) + '_is_sniper\") == True, F.lit(1)).otherwise(F.lit(0))' for i in range(1, 6)])\n",
    "        )\n",
    "    )\n",
    "    .withColumn('t2_snipers_on_team',\n",
    "        eval(' + '.join(\n",
    "            ['F.when(F.col(\"t2_player' + str(i) + '_is_sniper\") == True, F.lit(1)).otherwise(F.lit(0))' for i in range(1, 6)])\n",
    "        )\n",
    "    )\n",
    ")\n",
    "print('df_csgo')"
   ]
  },
  {
   "cell_type": "markdown",
   "id": "a00ed2a0",
   "metadata": {},
   "source": [
    "# Create df with match stats only"
   ]
  },
  {
   "cell_type": "code",
   "execution_count": 4,
   "id": "da1b7507",
   "metadata": {},
   "outputs": [],
   "source": [
    "df_matches = (df_csgo\n",
    "    .select(\n",
    "        'match_id',\n",
    "        'match_date',\n",
    "        't1', \n",
    "        't2', \n",
    "        't1_points', \n",
    "        't2_points', \n",
    "        't1_world_rank', \n",
    "        't2_world_rank', \n",
    "        't1_h2h_win_perc', \n",
    "        't2_h2h_win_perc', \n",
    "        'winner', \n",
    "        'winning_team_name',\n",
    "        't1_snipers_on_team',\n",
    "        't2_snipers_on_team'\n",
    "    )\n",
    ")\n",
    "\n",
    "# df_matches.show(10)\n",
    "print('df_matches - no player data')"
   ]
  },
  {
   "cell_type": "markdown",
   "id": "aafc744f",
   "metadata": {},
   "source": [
    "# Restructure df, one row per team"
   ]
  },
  {
   "cell_type": "code",
   "execution_count": 26,
   "id": "d801b440",
   "metadata": {},
   "outputs": [
    {
     "name": "stdout",
     "output_type": "stream",
     "text": [
      "root\n",
      " |-- match_id: long (nullable = false)\n",
      " |-- match_date: string (nullable = true)\n",
      " |-- team_no: string (nullable = false)\n",
      " |-- team_name: string (nullable = true)\n",
      " |-- points: integer (nullable = true)\n",
      " |-- world_rank: integer (nullable = true)\n",
      " |-- h2h_win_perc: double (nullable = true)\n",
      " |-- snipers_on_team: integer (nullable = false)\n",
      " |-- won: integer (nullable = false)\n",
      "\n",
      "df_matches - one row per match\n"
     ]
    }
   ],
   "source": [
    "df_teams = (\n",
    "    df_matches\n",
    "        .select(\n",
    "            'match_id',\n",
    "            'match_date',\n",
    "            F.lit('t1').alias('team_no'),\n",
    "            F.col('t1').alias('team_name'), \n",
    "            F.col('t1_points').alias('points'), \n",
    "            F.col('t1_world_rank').alias('world_rank'), \n",
    "            F.col('t1_h2h_win_perc').alias('h2h_win_perc'),\n",
    "            'winning_team_name',\n",
    "            F.col('t1_snipers_on_team').alias('snipers_on_team')\n",
    "        )\n",
    "    .union(df_matches\n",
    "        .select(\n",
    "            'match_id',\n",
    "            'match_date',\n",
    "            F.lit('t2').alias('team_no'),\n",
    "            F.col('t2').alias('team_name'), \n",
    "            F.col('t2_points').alias('points'), \n",
    "            F.col('t2_world_rank').alias('world_rank'), \n",
    "            F.col('t2_h2h_win_perc').alias('h2h_win_perc'),\n",
    "            'winning_team_name',\n",
    "            't2_snipers_on_team',\n",
    "        )\n",
    "    )\n",
    "    .withColumn('won',\n",
    "        F.when(F.col('team_name') == F.col('winning_team_name'), F.lit(1))\n",
    "        .otherwise(F.lit(0))\n",
    "    )\n",
    "    .drop('winning_team_name')\n",
    "    .orderBy('match_id')\n",
    ")\n",
    "\n",
    "# df_teams.show()\n",
    "# df_teams.printSchema()\n",
    "print('df_teams - one row per match')"
   ]
  },
  {
   "cell_type": "code",
   "execution_count": 6,
   "id": "84123f31",
   "metadata": {},
   "outputs": [],
   "source": [
    "## challenge, find another way of doing the above, maybe this could help:"
   ]
  },
  {
   "cell_type": "code",
   "execution_count": 7,
   "id": "cd7fba5d",
   "metadata": {},
   "outputs": [],
   "source": [
    "# from pyspark.sql.functions import array, col, explode, struct, lit\n",
    "\n",
    "# df = sc.parallelize([(1, 0.0, 0.6), (1, 0.6, 0.7)]).toDF([\"A\", \"col_1\", \"col_2\"])\n",
    "\n",
    "# def to_long(df, by):\n",
    "\n",
    "#     # Filter dtypes and split into column names and type description\n",
    "#     cols, dtypes = zip(*((c, t) for (c, t) in df.dtypes if c not in by))\n",
    "#     # Spark SQL supports only homogeneous columns\n",
    "#     assert len(set(dtypes)) == 1, \"All columns have to be of the same type\"\n",
    "\n",
    "#     # Create and explode an array of (column_name, column_value) structs\n",
    "#     kvs = explode(array([\n",
    "#       struct(lit(c).alias(\"key\"), col(c).alias(\"val\")) for c in cols\n",
    "#     ])).alias(\"kvs\")\n",
    "\n",
    "#     return df.select(by + [kvs]).select(by + [\"kvs.key\", \"kvs.val\"])\n",
    "\n",
    "# to_long(df, [\"A\"]).show()\n"
   ]
  },
  {
   "cell_type": "code",
   "execution_count": 8,
   "id": "ad3b82bb",
   "metadata": {},
   "outputs": [],
   "source": [
    "# Make df_player stats - one row per player"
   ]
  },
  {
   "cell_type": "code",
   "execution_count": 9,
   "id": "56d0cd20",
   "metadata": {},
   "outputs": [],
   "source": [
    "match_columns = ['match_date', 'match_id', 'winner']\n",
    "teams = ['t1', 't2']\n",
    "players = ['player' + str(i) for i in range(1,6)]"
   ]
  },
  {
   "cell_type": "code",
   "execution_count": 34,
   "id": "80b83104",
   "metadata": {},
   "outputs": [
    {
     "name": "stdout",
     "output_type": "stream",
     "text": [
      "root\n",
      " |-- match_date: string (nullable = true)\n",
      " |-- match_id: long (nullable = false)\n",
      " |-- winner: string (nullable = true)\n",
      " |-- team: string (nullable = false)\n",
      " |-- player: string (nullable = false)\n",
      " |-- rating: double (nullable = true)\n",
      " |-- impact: double (nullable = true)\n",
      " |-- kdr: double (nullable = true)\n",
      " |-- dmr: double (nullable = true)\n",
      " |-- kpr: double (nullable = true)\n",
      " |-- apr: double (nullable = true)\n",
      " |-- dpr: double (nullable = true)\n",
      " |-- spr: double (nullable = true)\n",
      " |-- opk_ratio: double (nullable = true)\n",
      " |-- opk_rating: double (nullable = true)\n",
      " |-- wins_perc_after_fk: double (nullable = true)\n",
      " |-- fk_perc_in_wins: double (nullable = true)\n",
      " |-- multikill_perc: double (nullable = true)\n",
      " |-- rating_at_least_one_perc: double (nullable = true)\n",
      " |-- is_sniper: boolean (nullable = true)\n",
      " |-- clutch_win_perc: double (nullable = true)\n",
      " |-- won: integer (nullable = false)\n",
      "\n",
      "df_players - one row per player\n"
     ]
    }
   ],
   "source": [
    "import re\n",
    "\n",
    "# grab all the columns that contain 't1', 't2', or 'player', and select them along with the match columns\n",
    "# The result is an exploded df with one row per player\n",
    "\n",
    "for i, team in enumerate(teams):\n",
    "    for j, player in enumerate(players):\n",
    "        player_cols = []\n",
    "        for col in df_csgo.columns:\n",
    "            if team in col and player in col:\n",
    "                player_cols.append(col)\n",
    "        this_player_cols = (df_csgo\n",
    "             .select(\n",
    "                 *match_columns,\n",
    "                 F.lit(team).alias('team'),\n",
    "                 F.lit(player).alias('player'),\n",
    "                 *player_cols               \n",
    "             )\n",
    "        )\n",
    "        if (i == 0 and j == 0):\n",
    "            df_players = this_player_cols\n",
    "        else:\n",
    "            df_players = (df_players\n",
    "                .union(this_player_cols)\n",
    "            )\n",
    "\n",
    "df_players = (df_players\n",
    "    .withColumn('won',\n",
    "        F.when(F.col('team') == F.col('winner'), F.lit(1))\n",
    "        .otherwise(F.lit(0))\n",
    "    )\n",
    "    .select( \n",
    "        *[F.col(column_name).alias(re.sub('t1_player1_', '', column_name)) for column_name in df_players.columns]\n",
    "    )\n",
    "    .orderBy('match_id', 'team', 'player')\n",
    ")\n",
    "\n",
    "df_players.printSchema()\n",
    "print('df_players - one row per player')   \n"
   ]
  }
 ],
 "metadata": {
  "kernelspec": {
   "display_name": "Python 3 (ipykernel)",
   "language": "python",
   "name": "python3"
  },
  "language_info": {
   "codemirror_mode": {
    "name": "ipython",
    "version": 3
   },
   "file_extension": ".py",
   "mimetype": "text/x-python",
   "name": "python",
   "nbconvert_exporter": "python",
   "pygments_lexer": "ipython3",
   "version": "3.10.4"
  }
 },
 "nbformat": 4,
 "nbformat_minor": 5
}
