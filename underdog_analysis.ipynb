{
 "cells": [
  {
   "cell_type": "code",
   "execution_count": 1,
   "id": "0deb441d",
   "metadata": {},
   "outputs": [
    {
     "name": "stderr",
     "output_type": "stream",
     "text": [
      "                                                                                \r"
     ]
    },
    {
     "name": "stdout",
     "output_type": "stream",
     "text": [
      "df_csgo\n",
      "df_matches - no player data\n",
      "df_teams - one row per match\n",
      "df_players - one row per player\n"
     ]
    }
   ],
   "source": [
    "%run ./cs_go_import_and_process_data.ipynb"
   ]
  },
  {
   "cell_type": "code",
   "execution_count": null,
   "id": "fdbd26f7",
   "metadata": {},
   "outputs": [],
   "source": [
    "# Underdog analysis"
   ]
  },
  {
   "cell_type": "code",
   "execution_count": 104,
   "id": "79ed4981",
   "metadata": {},
   "outputs": [],
   "source": [
    "df_csgo_with_underdog_check = (df_csgo\n",
    "    # team ranking\n",
    "    .withColumn('favourite_by_ranking',\n",
    "        F.when(F.col('t1_world_rank') > F.col('t2_world_rank'), F.lit('t1'))\n",
    "         .when(F.col('t2_world_rank') > F.col('t1_world_rank'), F.lit('t2'))\n",
    "         .otherwise(F.lit('even'))      \n",
    "    )\n",
    "    .withColumn('ranking_difference',\n",
    "        F.abs(F.col('t1_world_rank') - F.col('t2_world_rank'))\n",
    "    )\n",
    "    .withColumn('winner_by_comparitive_ranking',\n",
    "        F.when(F.col('favourite_by_ranking') == F.col('winner'), F.lit('favourite'))\n",
    "         .otherwise(F.lit('underdog'))\n",
    "    )\n",
    "    \n",
    "    # h2h\n",
    "    .withColumn('favourite_by_h2h',\n",
    "        F.when(F.col('t1_h2h_win_perc') > F.col('t2_h2h_win_perc'), F.lit('t1'))\n",
    "         .when(F.col('t2_h2h_win_perc') > F.col('t1_h2h_win_perc'), F.lit('t2'))\n",
    "         .otherwise(F.lit('even'))      \n",
    "    )\n",
    "    .withColumn('h2h_difference',\n",
    "        F.abs(F.col('t1_h2h_win_perc') - F.col('t2_h2h_win_perc'))\n",
    "    )\n",
    "    .withColumn('winner_by_h2h',\n",
    "        F.when(F.col('favourite_by_h2h') == F.col('winner'), F.lit('favourite'))\n",
    "         .otherwise(F.lit('underdog'))\n",
    "    )\n",
    "     \n",
    "    # avg player rating\n",
    "    .withColumn('favourite_by_avg_player_rating',\n",
    "        F.when(F.col('t1_avg_player_rating') > F.col('t2_avg_player_rating'), F.lit('t1'))\n",
    "         .when(F.col('t2_avg_player_rating') > F.col('t1_avg_player_rating'), F.lit('t2'))\n",
    "         .otherwise(F.lit('even'))      \n",
    "    )\n",
    "    .withColumn('avg_player_rating_difference',\n",
    "        F.abs(F.col('t1_h2h_win_perc') - F.col('t2_h2h_win_perc'))\n",
    "    )\n",
    "    .withColumn('winner_by_avg_player_rating',\n",
    "        F.when(F.col('favourite_by_avg_player_rating') == F.col('winner'), F.lit('favourite'))\n",
    "         .otherwise(F.lit('underdog'))\n",
    "    )\n",
    ")"
   ]
  },
  {
   "cell_type": "code",
   "execution_count": 81,
   "id": "0698e8a3",
   "metadata": {},
   "outputs": [
    {
     "name": "stdout",
     "output_type": "stream",
     "text": [
      "+-----------------------------+------------------------------------+\n",
      "|winner_by_comparitive_ranking|count(winner_by_comparitive_ranking)|\n",
      "+-----------------------------+------------------------------------+\n",
      "|                    favourite|                                1542|\n",
      "|                     underdog|                                2245|\n",
      "+-----------------------------+------------------------------------+\n",
      "\n"
     ]
    }
   ],
   "source": [
    "(df_csgo_with_underdog_check\n",
    "    .groupBy('winner_by_comparitive_ranking')\n",
    "    .agg(F.count('winner_by_comparitive_ranking'))\n",
    "    .show()\n",
    ")"
   ]
  },
  {
   "cell_type": "code",
   "execution_count": 76,
   "id": "3eb4be55",
   "metadata": {},
   "outputs": [
    {
     "name": "stdout",
     "output_type": "stream",
     "text": [
      "+------------------+-------------------------+\n",
      "|ranking_difference|count(ranking_difference)|\n",
      "+------------------+-------------------------+\n",
      "|                 1|                      448|\n",
      "|                 2|                      418|\n",
      "|                 3|                      390|\n",
      "|                 4|                      330|\n",
      "|                 5|                      315|\n",
      "|                 6|                      301|\n",
      "|                 7|                      239|\n",
      "|                 8|                      251|\n",
      "|                 9|                      232|\n",
      "|                10|                      178|\n",
      "|                11|                      147|\n",
      "|                12|                      143|\n",
      "|                13|                      123|\n",
      "|                14|                       93|\n",
      "|                15|                       48|\n",
      "|                16|                       49|\n",
      "|                17|                       42|\n",
      "|                18|                       21|\n",
      "|                19|                       18|\n",
      "|                20|                        1|\n",
      "+------------------+-------------------------+\n",
      "\n"
     ]
    }
   ],
   "source": [
    "(df_csgo_with_underdog_check\n",
    "    .groupBy('ranking_difference')\n",
    "    .agg(F.count('ranking_difference'))\n",
    "    .orderBy('ranking_difference')\n",
    "    .show(40)\n",
    ")"
   ]
  },
  {
   "cell_type": "code",
   "execution_count": 79,
   "id": "f3725bc0",
   "metadata": {},
   "outputs": [
    {
     "name": "stdout",
     "output_type": "stream",
     "text": [
      "+------------------+---------+--------+\n",
      "|ranking_difference|favourite|underdog|\n",
      "+------------------+---------+--------+\n",
      "|                 1|      194|     254|\n",
      "|                 2|      205|     213|\n",
      "|                 3|      161|     229|\n",
      "|                 4|      147|     183|\n",
      "|                 5|      138|     177|\n",
      "|                 6|      111|     190|\n",
      "|                 7|       87|     152|\n",
      "|                 8|       99|     152|\n",
      "|                 9|       94|     138|\n",
      "|                10|       63|     115|\n",
      "|                11|       47|     100|\n",
      "|                12|       51|      92|\n",
      "|                13|       55|      68|\n",
      "|                14|       37|      56|\n",
      "|                15|       17|      31|\n",
      "|                16|       13|      36|\n",
      "|                17|       12|      30|\n",
      "|                18|        6|      15|\n",
      "|                19|        5|      13|\n",
      "|                20|     null|       1|\n",
      "+------------------+---------+--------+\n",
      "\n"
     ]
    }
   ],
   "source": [
    "(df_csgo_with_underdog_check\n",
    "    .groupBy('ranking_difference')\n",
    "    .pivot('winner_by_comparitive_ranking')\n",
    "    .agg(F.count('winner_by_comparitive_ranking'))\n",
    "    .orderBy('ranking_difference')\n",
    "    .show(40)\n",
    ")"
   ]
  },
  {
   "cell_type": "code",
   "execution_count": 82,
   "id": "007543e3",
   "metadata": {},
   "outputs": [
    {
     "name": "stdout",
     "output_type": "stream",
     "text": [
      "+-------------+--------------------+\n",
      "|winner_by_h2h|count(winner_by_h2h)|\n",
      "+-------------+--------------------+\n",
      "|    favourite|                1807|\n",
      "|     underdog|                1980|\n",
      "+-------------+--------------------+\n",
      "\n"
     ]
    }
   ],
   "source": [
    "(df_csgo_with_underdog_check\n",
    "    .groupBy('winner_by_h2h')\n",
    "    .agg(F.count('winner_by_h2h'))\n",
    "    .show()\n",
    ")"
   ]
  },
  {
   "cell_type": "code",
   "execution_count": 105,
   "id": "52fa6a09",
   "metadata": {},
   "outputs": [
    {
     "name": "stdout",
     "output_type": "stream",
     "text": [
      "+---------------------------+----------------------------------+\n",
      "|winner_by_avg_player_rating|count(winner_by_avg_player_rating)|\n",
      "+---------------------------+----------------------------------+\n",
      "|                  favourite|                              2163|\n",
      "|                   underdog|                              1624|\n",
      "+---------------------------+----------------------------------+\n",
      "\n"
     ]
    }
   ],
   "source": [
    "(df_csgo_with_underdog_check\n",
    "    .groupBy('winner_by_avg_player_rating')\n",
    "    .agg(F.count('winner_by_avg_player_rating'))\n",
    "    .show()\n",
    ")"
   ]
  }
 ],
 "metadata": {
  "kernelspec": {
   "display_name": "Python 3 (ipykernel)",
   "language": "python",
   "name": "python3"
  },
  "language_info": {
   "codemirror_mode": {
    "name": "ipython",
    "version": 3
   },
   "file_extension": ".py",
   "mimetype": "text/x-python",
   "name": "python",
   "nbconvert_exporter": "python",
   "pygments_lexer": "ipython3",
   "version": "3.10.4"
  }
 },
 "nbformat": 4,
 "nbformat_minor": 5
}
